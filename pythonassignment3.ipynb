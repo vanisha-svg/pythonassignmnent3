{
 "cells": [
  {
   "cell_type": "code",
   "execution_count": 1,
   "id": "e7d5a31d-7808-46b2-bebe-17b3375d7c7f",
   "metadata": {},
   "outputs": [
    {
     "name": "stdin",
     "output_type": "stream",
     "text": [
      "Enter Candidate Name:  Vanisha\n",
      "Enter Job Position:  python developer\n",
      "Enter Joining Date (DD-MM-YYYY):  27-12-2025\n",
      "Enter Total Compensation Package:  35lakhs\n",
      "Enter Email to Confirm Offer:  vanisha123@gmail.com\n",
      "Enter HR Manager Name:  sunil kumar\n"
     ]
    },
    {
     "name": "stdout",
     "output_type": "stream",
     "text": [
      "\n",
      "A/52 Sector 16 Noida UP\n",
      "\n",
      "Dear Vanisha,\n",
      "\n",
      "Subject: Offer of Employment for the position of python developer\n",
      "\n",
      "We are delighted to extend this formal offer of employment to you for the position of python developer at our organization. \n",
      "Based on your qualifications and the skills you demonstrated during the recruitment process, \n",
      "we are confident that you will be a valuable addition to our team.\n",
      "\n",
      "As discussed, your expected date of joining is 27-12-2025. \n",
      "Your total compensation package will be 35lakhs, which includes all salary components as per the company’s policy. \n",
      "Further details regarding your compensation will be provided in your employment contract.\n",
      "\n",
      "We expect you to bring your best efforts to help the company achieve its goals, \n",
      "and we are committed to supporting your professional growth during your time with us.\n",
      "\n",
      "Please confirm your acceptance of this offer by sending an email to vanisha123@gmail.com at your earliest convenience. \n",
      "Should you have any queries regarding this offer, feel free to reach out to us.\n",
      "\n",
      "We look forward to having you onboard and are excited about the great things we can accomplish together.\n",
      "\n",
      "Sincerely,\n",
      "\n",
      "sunil kumar\n",
      "HR Manager\n",
      "\n"
     ]
    }
   ],
   "source": [
    "# Offer Letter Generator\n",
    "\n",
    "# Taking user inputs for each variable\n",
    "candidate_name = input(\"Enter Candidate Name: \")\n",
    "job_position = input(\"Enter Job Position: \")\n",
    "joining_date = input(\"Enter Joining Date (DD-MM-YYYY): \")\n",
    "salary = input(\"Enter Total Compensation Package: \")\n",
    "email = input(\"Enter Email to Confirm Offer: \")\n",
    "hr_name = input(\"Enter HR Manager Name: \")\n",
    "\n",
    "# Static Address\n",
    "company_address = \"A/52 Sector 16 Noida UP\"\n",
    "\n",
    "# Offer letter content\n",
    "offer_letter = f\"\"\"\n",
    "{company_address}\n",
    "\n",
    "Dear {candidate_name},\n",
    "\n",
    "Subject: Offer of Employment for the position of {job_position}\n",
    "\n",
    "We are delighted to extend this formal offer of employment to you for the position of {job_position} at our organization. \n",
    "Based on your qualifications and the skills you demonstrated during the recruitment process, \n",
    "we are confident that you will be a valuable addition to our team.\n",
    "\n",
    "As discussed, your expected date of joining is {joining_date}. \n",
    "Your total compensation package will be {salary}, which includes all salary components as per the company’s policy. \n",
    "Further details regarding your compensation will be provided in your employment contract.\n",
    "\n",
    "We expect you to bring your best efforts to help the company achieve its goals, \n",
    "and we are committed to supporting your professional growth during your time with us.\n",
    "\n",
    "Please confirm your acceptance of this offer by sending an email to {email} at your earliest convenience. \n",
    "Should you have any queries regarding this offer, feel free to reach out to us.\n",
    "\n",
    "We look forward to having you onboard and are excited about the great things we can accomplish together.\n",
    "\n",
    "Sincerely,\n",
    "\n",
    "{hr_name}\n",
    "HR Manager\n",
    "\"\"\"\n",
    "\n",
    "# Printing the offer letter\n",
    "print(offer_letter)\n"
   ]
  },
  {
   "cell_type": "code",
   "execution_count": null,
   "id": "b3fa5e57-cd63-4e51-8696-8a0821d729bc",
   "metadata": {},
   "outputs": [],
   "source": []
  }
 ],
 "metadata": {
  "kernelspec": {
   "display_name": "Python 3 (ipykernel)",
   "language": "python",
   "name": "python3"
  },
  "language_info": {
   "codemirror_mode": {
    "name": "ipython",
    "version": 3
   },
   "file_extension": ".py",
   "mimetype": "text/x-python",
   "name": "python",
   "nbconvert_exporter": "python",
   "pygments_lexer": "ipython3",
   "version": "3.13.5"
  }
 },
 "nbformat": 4,
 "nbformat_minor": 5
}
